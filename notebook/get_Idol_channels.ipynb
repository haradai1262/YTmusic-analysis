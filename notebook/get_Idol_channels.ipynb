{
 "cells": [
  {
   "cell_type": "code",
   "execution_count": 81,
   "metadata": {},
   "outputs": [],
   "source": [
    "# アイドルのYouTubeチャンネルを取得する\n",
    "# ユーチュラというサイトの「アイドル」タグが付与されたチャンネルのリストを使った\n",
    "# '音楽' in tags and '女性' in tags and '芸能人' in tags"
   ]
  },
  {
   "cell_type": "code",
   "execution_count": 1,
   "metadata": {},
   "outputs": [],
   "source": [
    "import pandas as pd\n",
    "import re\n",
    "import requests\n",
    "from bs4 import BeautifulSoup"
   ]
  },
  {
   "cell_type": "code",
   "execution_count": 116,
   "metadata": {},
   "outputs": [
    {
     "name": "stdout",
     "output_type": "stream",
     "text": [
      "1\n",
      "2\n",
      "3\n",
      "4\n",
      "5\n",
      "6\n",
      "7\n",
      "8\n",
      "9\n",
      "10\n",
      "11\n",
      "12\n"
     ]
    }
   ],
   "source": [
    "rows = []\n",
    "\n",
    "page_num = 13\n",
    "\n",
    "for page_idx in range(1, page_num, 1):\n",
    "    \n",
    "    print(page_idx)\n",
    "    \n",
    "    target_url = f'https://ytranking.net/tag/4?p={page_idx}'\n",
    "    r = requests.get(target_url)\n",
    "    soup = BeautifulSoup(r.text, 'lxml')\n",
    "    ul_li = soup.find_all('ul', class_='channel-list')\n",
    "\n",
    "    x = []\n",
    "    for ul in ul_li:\n",
    "        for ps in ul.find_all('p', class_='more'):\n",
    "            for p in ps:\n",
    "                x.append(p)\n",
    "    \n",
    "    for p in x:\n",
    "        \n",
    "        target_channel = p.get(\"href\")\n",
    "        target_channnel_url = f'https://ytranking.net{target_channel}'\n",
    "        r = requests.get(target_channnel_url)\n",
    "        channel_soup = BeautifulSoup(r.text, 'lxml')\n",
    "        channel_link = channel_soup.find_all('a', href=re.compile('https://www\\.youtube\\.com'))[-1]\n",
    "        channel_id = channel_link.get('href').split('/')[-1]\n",
    "        \n",
    "        channel_title = channel_link.text.replace('exit_to_app','')\n",
    "        \n",
    "        tags_li = channel_soup.find('section', class_='tag')\n",
    "        tags = [ i.text for i in tags_li.find_all('li')]\n",
    "        tags_str = ','.join(tags)\n",
    "        \n",
    "        if '音楽' in tags and '女性' in tags and '芸能人' in tags:\n",
    "            rows.append([channel_title, channel_id, tags_str])\n",
    "    "
   ]
  },
  {
   "cell_type": "code",
   "execution_count": 117,
   "metadata": {},
   "outputs": [],
   "source": [
    "df_channels = pd.DataFrame(rows, columns=['name','channel_id','tags'])\n",
    "df_channels.to_csv('/data/idol_channels.csv', index=None)"
   ]
  },
  {
   "cell_type": "code",
   "execution_count": null,
   "metadata": {},
   "outputs": [],
   "source": []
  }
 ],
 "metadata": {
  "kernelspec": {
   "display_name": "Python 3",
   "language": "python",
   "name": "python3"
  },
  "language_info": {
   "codemirror_mode": {
    "name": "ipython",
    "version": 3
   },
   "file_extension": ".py",
   "mimetype": "text/x-python",
   "name": "python",
   "nbconvert_exporter": "python",
   "pygments_lexer": "ipython3",
   "version": "3.7.2"
  }
 },
 "nbformat": 4,
 "nbformat_minor": 2
}
