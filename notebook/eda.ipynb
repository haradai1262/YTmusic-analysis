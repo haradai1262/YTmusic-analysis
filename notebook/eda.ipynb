{
 "cells": [
  {
   "cell_type": "code",
   "execution_count": 4,
   "metadata": {},
   "outputs": [],
   "source": [
    "import os,sys,json\n",
    "import pandas as pd"
   ]
  },
  {
   "cell_type": "code",
   "execution_count": 65,
   "metadata": {},
   "outputs": [],
   "source": [
    "save_dir = '/youtube/idol_channels_20191128'\n",
    "channel_id = 'UCShhCnBdAL5nYpKrbL9JOTA'"
   ]
  },
  {
   "cell_type": "code",
   "execution_count": 66,
   "metadata": {},
   "outputs": [],
   "source": [
    "channel_dir = f'{save_dir}/videos/{channel_id}'\n",
    "tmp = os.listdir( channel_dir  )\n",
    "vid_list = [ line.split('.')[0] for line in tmp ] "
   ]
  },
  {
   "cell_type": "code",
   "execution_count": 67,
   "metadata": {},
   "outputs": [],
   "source": [
    "rows = []\n",
    "\n",
    "for vidx, vid in enumerate( vid_list ):\n",
    "    video_path = f'{channel_dir}/{vid}.json'\n",
    "    with open(video_path, 'r') as f:\n",
    "        v = json.load(f)\n",
    "    \n",
    "    if v['snippet']['categoryId'] != '10':continue\n",
    "    #if v['contentDetails']['licensedContent'] == False: continue\n",
    "    #if not 'topicDetails' in v: continue\n",
    "    #if not 'https://en.wikipedia.org/wiki/Music' in v['topicDetails']['topicCategories']: continue\n",
    "    \n",
    "    rows.append([\n",
    "        v['id'],\n",
    "        v['snippet']['title'],\n",
    "        v['snippet']['publishedAt'],\n",
    "        v['topicDetails']['topicCategories'],\n",
    "    ])"
   ]
  },
  {
   "cell_type": "code",
   "execution_count": 68,
   "metadata": {},
   "outputs": [
    {
     "data": {
      "text/html": [
       "<div>\n",
       "<style scoped>\n",
       "    .dataframe tbody tr th:only-of-type {\n",
       "        vertical-align: middle;\n",
       "    }\n",
       "\n",
       "    .dataframe tbody tr th {\n",
       "        vertical-align: top;\n",
       "    }\n",
       "\n",
       "    .dataframe thead th {\n",
       "        text-align: right;\n",
       "    }\n",
       "</style>\n",
       "<table border=\"1\" class=\"dataframe\">\n",
       "  <thead>\n",
       "    <tr style=\"text-align: right;\">\n",
       "      <th></th>\n",
       "      <th>0</th>\n",
       "      <th>1</th>\n",
       "      <th>2</th>\n",
       "      <th>3</th>\n",
       "    </tr>\n",
       "  </thead>\n",
       "  <tbody>\n",
       "    <tr>\n",
       "      <th>2</th>\n",
       "      <td>IytBgF3UhP0</td>\n",
       "      <td>ZOC「family name」Music video</td>\n",
       "      <td>2019-04-22T12:04:33.000Z</td>\n",
       "      <td>[https://en.wikipedia.org/wiki/Music]</td>\n",
       "    </tr>\n",
       "    <tr>\n",
       "      <th>0</th>\n",
       "      <td>WWIYBv3mYio</td>\n",
       "      <td>ZOC 「チュープリ」Music Video</td>\n",
       "      <td>2019-04-30T12:00:21.000Z</td>\n",
       "      <td>[https://en.wikipedia.org/wiki/Music]</td>\n",
       "    </tr>\n",
       "    <tr>\n",
       "      <th>3</th>\n",
       "      <td>O59q5UB6B38</td>\n",
       "      <td>ZOC「断捨離彼氏」Music Video</td>\n",
       "      <td>2019-09-21T12:00:01.000Z</td>\n",
       "      <td>[https://en.wikipedia.org/wiki/Music]</td>\n",
       "    </tr>\n",
       "    <tr>\n",
       "      <th>1</th>\n",
       "      <td>1WxixIpGhF8</td>\n",
       "      <td>ZOC「ZOC実験室」LIVE at Zepp Tokyo 2019.9.9</td>\n",
       "      <td>2019-10-09T12:00:45.000Z</td>\n",
       "      <td>[https://en.wikipedia.org/wiki/Rock_music, htt...</td>\n",
       "    </tr>\n",
       "  </tbody>\n",
       "</table>\n",
       "</div>"
      ],
      "text/plain": [
       "             0                                       1  \\\n",
       "2  IytBgF3UhP0             ZOC「family name」Music video   \n",
       "0  WWIYBv3mYio                 ZOC 「チュープリ」Music Video   \n",
       "3  O59q5UB6B38                   ZOC「断捨離彼氏」Music Video   \n",
       "1  1WxixIpGhF8  ZOC「ZOC実験室」LIVE at Zepp Tokyo 2019.9.9   \n",
       "\n",
       "                          2                                                  3  \n",
       "2  2019-04-22T12:04:33.000Z              [https://en.wikipedia.org/wiki/Music]  \n",
       "0  2019-04-30T12:00:21.000Z              [https://en.wikipedia.org/wiki/Music]  \n",
       "3  2019-09-21T12:00:01.000Z              [https://en.wikipedia.org/wiki/Music]  \n",
       "1  2019-10-09T12:00:45.000Z  [https://en.wikipedia.org/wiki/Rock_music, htt...  "
      ]
     },
     "execution_count": 68,
     "metadata": {},
     "output_type": "execute_result"
    }
   ],
   "source": [
    "pd.DataFrame(rows).sort_values(2)"
   ]
  },
  {
   "cell_type": "code",
   "execution_count": null,
   "metadata": {},
   "outputs": [],
   "source": []
  }
 ],
 "metadata": {
  "kernelspec": {
   "display_name": "Python 3",
   "language": "python",
   "name": "python3"
  },
  "language_info": {
   "codemirror_mode": {
    "name": "ipython",
    "version": 3
   },
   "file_extension": ".py",
   "mimetype": "text/x-python",
   "name": "python",
   "nbconvert_exporter": "python",
   "pygments_lexer": "ipython3",
   "version": "3.7.2"
  }
 },
 "nbformat": 4,
 "nbformat_minor": 2
}
